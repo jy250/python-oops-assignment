{
  "nbformat": 4,
  "nbformat_minor": 0,
  "metadata": {
    "colab": {
      "provenance": []
    },
    "kernelspec": {
      "name": "python3",
      "display_name": "Python 3"
    },
    "language_info": {
      "name": "python"
    }
  },
  "cells": [
    {
      "cell_type": "code",
      "execution_count": null,
      "metadata": {
        "colab": {
          "base_uri": "https://localhost:8080/",
          "height": 53
        },
        "id": "0JkN5rjquanr",
        "outputId": "f1dd57a3-c5cd-4c35-d2f0-9c2fea89fa0a"
      },
      "outputs": [
        {
          "output_type": "execute_result",
          "data": {
            "text/plain": [
              "'  Object-Oriented Programming (OOP) is a programming paradigm based on the concept of “objects”, which can contain:\\n\\n  .  Data in the form of fields (often called attributes or properties), and\\n\\n   .  Code in the form of procedures (often called methods or functions).\\n\\n\\n'"
            ],
            "application/vnd.google.colaboratory.intrinsic+json": {
              "type": "string"
            }
          },
          "metadata": {},
          "execution_count": 2
        }
      ],
      "source": [
        "# What is Object-Oriented Programming (OOP)\n",
        "\"\"\"  Object-Oriented Programming (OOP) is a programming paradigm based on the concept of “objects”, which can contain:\n",
        "\n",
        "  .  Data in the form of fields (often called attributes or properties), and\n",
        "\n",
        "   .  Code in the form of procedures (often called methods or functions).\n",
        "\n",
        "\n",
        "\"\"\""
      ]
    },
    {
      "cell_type": "code",
      "source": [
        "#  What is a class in OOP\n",
        "\"\"\"A class is a blueprint or template used to create objects in OOP.\n",
        "It defines what data (attributes) and what actions (methods) an object can have.\n",
        "\"\"\""
      ],
      "metadata": {
        "colab": {
          "base_uri": "https://localhost:8080/",
          "height": 35
        },
        "id": "7BtZPDWBupPK",
        "outputId": "01e058fd-a27e-471d-a037-0fd6d55da9ea"
      },
      "execution_count": null,
      "outputs": [
        {
          "output_type": "execute_result",
          "data": {
            "text/plain": [
              "'A class is a blueprint or template used to create objects in OOP.\\nIt defines what data (attributes) and what actions (methods) an object can have.\\n'"
            ],
            "application/vnd.google.colaboratory.intrinsic+json": {
              "type": "string"
            }
          },
          "metadata": {},
          "execution_count": 4
        }
      ]
    },
    {
      "cell_type": "code",
      "source": [
        "#  What is an object in OOP\n",
        "\"\"\"An object is an instance of a class.\n",
        "It represents a real-world entity and has two main things:\n",
        "\n",
        "   1 Attributes (data/variables)\n",
        "\n",
        "    2 Methods (functions/behavior)\n",
        "\n",
        "\n",
        "\"\"\"\n"
      ],
      "metadata": {
        "colab": {
          "base_uri": "https://localhost:8080/",
          "height": 35
        },
        "id": "LM11eATJz-OZ",
        "outputId": "6be7ba02-3487-42b5-e4a2-0005aea1838b"
      },
      "execution_count": null,
      "outputs": [
        {
          "output_type": "execute_result",
          "data": {
            "text/plain": [
              "'An object is an instance of a class.\\nIt represents a real-world entity and has two main things:\\n\\n   1 Attributes (data/variables)\\n\\n    2 Methods (functions/behavior)\\n\\n\\n'"
            ],
            "application/vnd.google.colaboratory.intrinsic+json": {
              "type": "string"
            }
          },
          "metadata": {},
          "execution_count": 5
        }
      ]
    },
    {
      "cell_type": "code",
      "source": [
        "# What is the difference between abstraction and encapsulation\n",
        "\"\"\"Feature                                  \tAbstraction                                           \tEncapsulation\n",
        "Definition\t                          Hides complexity and shows only essentials                   \tHides data and restricts access\n",
        "Focus On\t                            What an object does                                           How data is protected\n",
        "Implemented Using                     Abstract classes, interfaces                                 \tPrivate variables, getter/setter methods\n",
        "Goal\t                                Reduce complexity\t                                          Increase security and control\n",
        "Real-World Analogy                   \tCar dashboard (you don’t see engine details)                  Car doors (you lock them to protect insi\n",
        "\"\"\"\n"
      ],
      "metadata": {
        "colab": {
          "base_uri": "https://localhost:8080/",
          "height": 87
        },
        "id": "anu9vmcN0fbr",
        "outputId": "bf026dc9-7708-4bac-9630-9c3ad5f5072f"
      },
      "execution_count": null,
      "outputs": [
        {
          "output_type": "execute_result",
          "data": {
            "text/plain": [
              "'Feature                                  \\tAbstraction                                           \\tEncapsulation\\nDefinition\\t                          Hides complexity and shows only essentials                   \\tHides data and restricts access\\nFocus On\\t                            What an object does                                           How data is protected\\nImplemented Using                     Abstract classes, interfaces                                 \\tPrivate variables, getter/setter methods\\nGoal\\t                                Reduce complexity\\t                                          Increase security and control\\nReal-World Analogy                   \\tCar dashboard (you don’t see engine details)                  Car doors (you lock them to protect insi\\n'"
            ],
            "application/vnd.google.colaboratory.intrinsic+json": {
              "type": "string"
            }
          },
          "metadata": {},
          "execution_count": 7
        }
      ]
    },
    {
      "cell_type": "code",
      "source": [
        "# What are dunder methods in Python\n",
        "\"\"\"Dunder methods (also called magic methods or special methods) are built-in methods in Python that have double underscores (__) before and after their names — hence the name \"dunder\" (short for \"double underscore\").\n",
        "\n",
        "They allow your custom objects (classes) to behave like built-in types.\n",
        "\"\"\""
      ],
      "metadata": {
        "colab": {
          "base_uri": "https://localhost:8080/",
          "height": 53
        },
        "id": "p4Pyzggc0sLt",
        "outputId": "5f64f225-299b-469c-ce8d-efaae00baeac"
      },
      "execution_count": null,
      "outputs": [
        {
          "output_type": "execute_result",
          "data": {
            "text/plain": [
              "'Dunder methods (also called magic methods or special methods) are built-in methods in Python that have double underscores (__) before and after their names — hence the name \"dunder\" (short for \"double underscore\").\\n\\nThey allow your custom objects (classes) to behave like built-in types.\\n'"
            ],
            "application/vnd.google.colaboratory.intrinsic+json": {
              "type": "string"
            }
          },
          "metadata": {},
          "execution_count": 8
        }
      ]
    },
    {
      "cell_type": "code",
      "source": [
        "# Explain the concept of inheritance in OOPH\n",
        "\"\"\"Dunder methods (also called magic methods or special methods) are built-in methods in Python that have double underscores (__) before and after their names — hence the name \"dunder\" (short for \"double underscore\").\n",
        "\n",
        "They allow your custom objects (classes) to behave like built-in types.\n",
        "\n",
        "\n",
        "\"\"\""
      ],
      "metadata": {
        "colab": {
          "base_uri": "https://localhost:8080/",
          "height": 53
        },
        "id": "qzQmET8n1VDK",
        "outputId": "2f0db536-f696-48bc-81cd-7e02b0c7403b"
      },
      "execution_count": null,
      "outputs": [
        {
          "output_type": "execute_result",
          "data": {
            "text/plain": [
              "'Dunder methods (also called magic methods or special methods) are built-in methods in Python that have double underscores (__) before and after their names — hence the name \"dunder\" (short for \"double underscore\").\\n\\nThey allow your custom objects (classes) to behave like built-in types.\\n\\n\\n'"
            ],
            "application/vnd.google.colaboratory.intrinsic+json": {
              "type": "string"
            }
          },
          "metadata": {},
          "execution_count": 9
        }
      ]
    },
    {
      "cell_type": "code",
      "source": [
        "# What is polymorphism in OOP\n",
        "\"\"\"Polymorphism means \"many forms\". In OOP, it allows objects of different classes to be treated as objects of a common superclass, and to respond differently to the same method call.\n",
        "\n",
        "\n",
        "\"\"\""
      ],
      "metadata": {
        "colab": {
          "base_uri": "https://localhost:8080/",
          "height": 35
        },
        "id": "4zEd7d0c1ni7",
        "outputId": "858a6902-92eb-4b58-a3b2-33018b5e738b"
      },
      "execution_count": null,
      "outputs": [
        {
          "output_type": "execute_result",
          "data": {
            "text/plain": [
              "'Polymorphism means \"many forms\". In OOP, it allows objects of different classes to be treated as objects of a common superclass, and to respond differently to the same method call.\\n\\n\\n'"
            ],
            "application/vnd.google.colaboratory.intrinsic+json": {
              "type": "string"
            }
          },
          "metadata": {},
          "execution_count": 10
        }
      ]
    },
    {
      "cell_type": "code",
      "source": [
        "# How is encapsulation achieved in Python\n",
        "\"\"\"Encapsulation in Python is the process of hiding internal object details (data and implementation) and restricting direct access to them.\n",
        "This helps protect data and ensures that interaction with objects is controlled.\n",
        "\n",
        "\n",
        "\"\"\""
      ],
      "metadata": {
        "colab": {
          "base_uri": "https://localhost:8080/",
          "height": 35
        },
        "id": "J-OcAU3010Y9",
        "outputId": "bfad4d78-0a8d-4b82-ea8c-c7101e13f76d"
      },
      "execution_count": null,
      "outputs": [
        {
          "output_type": "execute_result",
          "data": {
            "text/plain": [
              "'Encapsulation in Python is the process of hiding internal object details (data and implementation) and restricting direct access to them.\\nThis helps protect data and ensures that interaction with objects is controlled.\\n\\n\\n'"
            ],
            "application/vnd.google.colaboratory.intrinsic+json": {
              "type": "string"
            }
          },
          "metadata": {},
          "execution_count": 11
        }
      ]
    },
    {
      "cell_type": "code",
      "source": [
        " #  What is a constructor in Python\n",
        " \"\"\"A constructor in Python is a special method used to initialize an object when it is created from a class.\n",
        "In Python, the constructor is defined using the __init__() method.\n",
        "\n",
        "\n",
        " \"\"\""
      ],
      "metadata": {
        "colab": {
          "base_uri": "https://localhost:8080/",
          "height": 35
        },
        "id": "aHeCm6Kw2Dp9",
        "outputId": "6e5f8bee-14c6-453e-fc91-47cf871f40db"
      },
      "execution_count": null,
      "outputs": [
        {
          "output_type": "execute_result",
          "data": {
            "text/plain": [
              "'A constructor in Python is a special method used to initialize an object when it is created from a class.\\nIn Python, the constructor is defined using the __init__() method.\\n\\n\\n'"
            ],
            "application/vnd.google.colaboratory.intrinsic+json": {
              "type": "string"
            }
          },
          "metadata": {},
          "execution_count": 12
        }
      ]
    },
    {
      "cell_type": "code",
      "source": [
        "# What are class and static methods in Python\n",
        "\"\"\"1. Class Method (@classmethod)\n",
        "Takes cls as the first parameter (not self).\n",
        "\n",
        "Can access and modify class-level data.\n",
        "\n",
        "Called on the class or object.\n",
        "    2. Static Method (@staticmethod)\n",
        "Does not take self or cls as the first parameter.\n",
        "\n",
        "Cannot access or modify class or instance variables.\n",
        "\n",
        "Used for utility/helper functions related to the class.\n",
        "\n",
        "\"\"\""
      ],
      "metadata": {
        "colab": {
          "base_uri": "https://localhost:8080/",
          "height": 53
        },
        "id": "1mQyFUVa2SEG",
        "outputId": "a3a64f2e-f373-4fc5-ccdf-3b313f37e022"
      },
      "execution_count": null,
      "outputs": [
        {
          "output_type": "execute_result",
          "data": {
            "text/plain": [
              "'1. Class Method (@classmethod)\\nTakes cls as the first parameter (not self).\\n\\nCan access and modify class-level data.\\n\\nCalled on the class or object.\\n    2. Static Method (@staticmethod)\\nDoes not take self or cls as the first parameter.\\n\\nCannot access or modify class or instance variables.\\n\\nUsed for utility/helper functions related to the class. \\n\\n'"
            ],
            "application/vnd.google.colaboratory.intrinsic+json": {
              "type": "string"
            }
          },
          "metadata": {},
          "execution_count": 13
        }
      ]
    },
    {
      "cell_type": "code",
      "source": [
        "# What are class and static methods in Python\n",
        "\"\"\"In Python, class methods and static methods are two types of methods that differ in how they access class and instance data.\n",
        "\n",
        "    @classmethod\n",
        "A class method is bound to the class and not the instance of the class.\n",
        "\n",
        "It takes cls as its first argument, which refers to the class itself.\n",
        "\n",
        "You use @classmethod decorator to define it.\n",
        "\n",
        "It can access and modify class-level data.\n",
        "\n",
        "        @staticmethod\n",
        "A static method is not bound to the class or instance.\n",
        "\n",
        "It doesn’t take self or cls as the first argument.\n",
        "\n",
        "Use the @staticmethod decorator to define it.\n",
        "\n",
        "It behaves like a regular function but belongs to the class’s namespace.\n",
        "\n",
        "✅ Example:\n",
        "\"\"\""
      ],
      "metadata": {
        "id": "MYKmwL0P2mDq",
        "colab": {
          "base_uri": "https://localhost:8080/",
          "height": 70
        },
        "outputId": "84937b36-1105-4bbe-c119-49bad5862e70"
      },
      "execution_count": null,
      "outputs": [
        {
          "output_type": "execute_result",
          "data": {
            "text/plain": [
              "'In Python, class methods and static methods are two types of methods that differ in how they access class and instance data.\\n\\n    @classmethod\\nA class method is bound to the class and not the instance of the class.\\n\\nIt takes cls as its first argument, which refers to the class itself.\\n\\nYou use @classmethod decorator to define it.\\n\\nIt can access and modify class-level data.\\n       \\n        @staticmethod\\nA static method is not bound to the class or instance.\\n\\nIt doesn’t take self or cls as the first argument.\\n\\nUse the @staticmethod decorator to define it.\\n\\nIt behaves like a regular function but belongs to the class’s namespace.\\n\\n✅ Example:\\n'"
            ],
            "application/vnd.google.colaboratory.intrinsic+json": {
              "type": "string"
            }
          },
          "metadata": {},
          "execution_count": 1
        }
      ]
    },
    {
      "cell_type": "markdown",
      "source": [],
      "metadata": {
        "id": "8zaW4IxX2LyP"
      }
    },
    {
      "cell_type": "code",
      "source": [
        "# What is method overloading in Python\n",
        "\"\"\"What is Method Overloading in Python?\n",
        "Method Overloading means defining multiple methods with the same name but different arguments (like different number or types of parameters) — it's a feature available in many programming languages (like Java or C++).\n",
        "\"\"\""
      ],
      "metadata": {
        "colab": {
          "base_uri": "https://localhost:8080/",
          "height": 53
        },
        "id": "K2K5BAJN2DRL",
        "outputId": "c0b6bd51-2c06-4d2a-ed64-5f239bcff2fa"
      },
      "execution_count": null,
      "outputs": [
        {
          "output_type": "execute_result",
          "data": {
            "text/plain": [
              "\"What is Method Overloading in Python?\\nMethod Overloading means defining multiple methods with the same name but different arguments (like different number or types of parameters) — it's a feature available in many programming languages (like Java or C++).\\n\""
            ],
            "application/vnd.google.colaboratory.intrinsic+json": {
              "type": "string"
            }
          },
          "metadata": {},
          "execution_count": 2
        }
      ]
    },
    {
      "cell_type": "code",
      "source": [
        "# What is method overriding in OOP\n",
        "\"\"\"Method Overriding means redefining a method in a child (subclass) that is already defined in the parent (superclass).\n",
        "\n",
        "It’s a key feature of polymorphism in object-oriented programming.\n",
        "\n",
        "\n",
        "\"\"\""
      ],
      "metadata": {
        "colab": {
          "base_uri": "https://localhost:8080/",
          "height": 35
        },
        "id": "mJJsFwbD2O5p",
        "outputId": "40cfa955-4c9a-49c4-f32c-b437a8002584"
      },
      "execution_count": null,
      "outputs": [
        {
          "output_type": "execute_result",
          "data": {
            "text/plain": [
              "'Method Overriding means redefining a method in a child (subclass) that is already defined in the parent (superclass).\\n\\nIt’s a key feature of polymorphism in object-oriented programming.\\n\\n\\n'"
            ],
            "application/vnd.google.colaboratory.intrinsic+json": {
              "type": "string"
            }
          },
          "metadata": {},
          "execution_count": 3
        }
      ]
    },
    {
      "cell_type": "code",
      "source": [
        "# What is a property decorator in Python\n",
        "\"\"\"The @property decorator in Python is used to define a method as a \"read-only\" attribute, allowing getter, setter, and deleter functionality with clean syntax — all while hiding the internal implementation.\n",
        "\"\"\""
      ],
      "metadata": {
        "colab": {
          "base_uri": "https://localhost:8080/",
          "height": 35
        },
        "id": "_r2MbFsJ2elD",
        "outputId": "3cd8144d-c4ea-43e4-8029-8d184b57fe68"
      },
      "execution_count": null,
      "outputs": [
        {
          "output_type": "execute_result",
          "data": {
            "text/plain": [
              "'The @property decorator in Python is used to define a method as a \"read-only\" attribute, allowing getter, setter, and deleter functionality with clean syntax — all while hiding the internal implementation.\\n'"
            ],
            "application/vnd.google.colaboratory.intrinsic+json": {
              "type": "string"
            }
          },
          "metadata": {},
          "execution_count": 4
        }
      ]
    },
    {
      "cell_type": "code",
      "source": [
        "#Why is polymorphism important in OOP\n",
        "\"\"\"Polymorphism means \"many forms\" — and in Object-Oriented Programming (OOP), it allows objects of different classes to be treated as objects of a common base class, especially when they share the same method name.\n",
        "\"\"\""
      ],
      "metadata": {
        "colab": {
          "base_uri": "https://localhost:8080/",
          "height": 35
        },
        "id": "BCkAn65G2n2U",
        "outputId": "8f051a79-1a7e-4b63-b7cc-a3d4f8e817e2"
      },
      "execution_count": null,
      "outputs": [
        {
          "output_type": "execute_result",
          "data": {
            "text/plain": [
              "'Polymorphism means \"many forms\" — and in Object-Oriented Programming (OOP), it allows objects of different classes to be treated as objects of a common base class, especially when they share the same method name.\\n'"
            ],
            "application/vnd.google.colaboratory.intrinsic+json": {
              "type": "string"
            }
          },
          "metadata": {},
          "execution_count": 5
        }
      ]
    },
    {
      "cell_type": "code",
      "source": [
        "#What is an abstract class in Python\n",
        "\"\"\" An abstract class in Python is a blueprint for other classes. It cannot be instantiated directly and is used to define a common interface for its subclasses.\n",
        "\n",
        "It may contain:\n",
        "\n",
        "Abstract methods (methods without implementation)\n",
        "\n",
        "Concrete methods (fully defined methods)\n",
        "\n",
        "\n",
        "\"\"\""
      ],
      "metadata": {
        "colab": {
          "base_uri": "https://localhost:8080/",
          "height": 53
        },
        "id": "VzlJZhqf2ziN",
        "outputId": "edec978b-ae0c-4701-e68f-8e1ac2824bad"
      },
      "execution_count": null,
      "outputs": [
        {
          "output_type": "execute_result",
          "data": {
            "text/plain": [
              "' An abstract class in Python is a blueprint for other classes. It cannot be instantiated directly and is used to define a common interface for its subclasses.\\n\\nIt may contain:\\n\\nAbstract methods (methods without implementation)\\n\\nConcrete methods (fully defined methods)\\n\\n\\n'"
            ],
            "application/vnd.google.colaboratory.intrinsic+json": {
              "type": "string"
            }
          },
          "metadata": {},
          "execution_count": 6
        }
      ]
    },
    {
      "cell_type": "code",
      "source": [
        "#What are the advantages of OOP\n",
        "\"\"\"Object-Oriented Programming (OOP) is a paradigm based on the concept of \"objects\", which bundle data and behavior together. OOP brings several key benefits that make code easier to build, maintain, and scale.\n",
        "\n",
        "  1. Modularity\n",
        "  2. Reusability\n",
        "  3. Encapsulation\n",
        "  4. Inheritance\n",
        "  5. Polymorphism\n",
        "  6. Maintainability and Scalability\n",
        "  7. Collaboration\n",
        "\n",
        "\n",
        "\n",
        "\"\"\""
      ],
      "metadata": {
        "colab": {
          "base_uri": "https://localhost:8080/",
          "height": 53
        },
        "id": "a-IP8mpk2-Ru",
        "outputId": "a3e48473-33ae-4b70-e842-bb5576a674da"
      },
      "execution_count": null,
      "outputs": [
        {
          "output_type": "execute_result",
          "data": {
            "text/plain": [
              "'Object-Oriented Programming (OOP) is a paradigm based on the concept of \"objects\", which bundle data and behavior together. OOP brings several key benefits that make code easier to build, maintain, and scale.\\n \\n  1. Modularity\\n  2. Reusability\\n  3. Encapsulation\\n  4. Inheritance\\n  5. Polymorphism\\n  6. Maintainability and Scalability\\n  7. Collaboration\\n\\n\\n\\n'"
            ],
            "application/vnd.google.colaboratory.intrinsic+json": {
              "type": "string"
            }
          },
          "metadata": {},
          "execution_count": 7
        }
      ]
    },
    {
      "cell_type": "code",
      "source": [
        "#  What is the difference between a class variable and an instance variable\n",
        "\"\"\"Feature\t                                   Class Variable\t                                             Instance Variable\n",
        "Belongs to                                           \tClass                                    \tInstance (object)\n",
        "Defined where?\t                         Inside class, outside methods                          \tInside methods using self\n",
        "Shared by objects?\t                         ✅ Yes (shared)\t                                 ❌ No (unique per object)\n",
        "Accessed using                          \tClass name or object\t                                   Always through object (self)\n",
        "Example use case\t                        Common settings/configs\t                           Object-specific data (e.g., name, age)\n",
        "\n",
        "\n",
        "\"\"\""
      ],
      "metadata": {
        "colab": {
          "base_uri": "https://localhost:8080/",
          "height": 87
        },
        "id": "qlyITJ7E3kvy",
        "outputId": "ab3efd7f-4c3e-43f2-c1d5-1f39cc3478c6"
      },
      "execution_count": null,
      "outputs": [
        {
          "output_type": "execute_result",
          "data": {
            "text/plain": [
              "'Feature\\t                                   Class Variable\\t                                             Instance Variable\\nBelongs to                                           \\tClass                                    \\tInstance (object)\\nDefined where?\\t                         Inside class, outside methods                          \\tInside methods using self\\nShared by objects?\\t                         ✅ Yes (shared)\\t                                 ❌ No (unique per object)\\nAccessed using                          \\tClass name or object\\t                                   Always through object (self)\\nExample use case\\t                        Common settings/configs\\t                           Object-specific data (e.g., name, age)\\n\\n\\n'"
            ],
            "application/vnd.google.colaboratory.intrinsic+json": {
              "type": "string"
            }
          },
          "metadata": {},
          "execution_count": 8
        }
      ]
    },
    {
      "cell_type": "code",
      "source": [
        "# What is multiple inheritance in Python\n",
        "\"\"\"Multiple Inheritance means a class can inherit from more than one parent class. This allows a child class to reuse code from multiple sources.\n",
        "\n",
        "\n",
        "\"\"\""
      ],
      "metadata": {
        "colab": {
          "base_uri": "https://localhost:8080/",
          "height": 35
        },
        "id": "Kz8xFsTv4F0N",
        "outputId": "3642ced3-1380-4d4a-9338-fb209123983b"
      },
      "execution_count": null,
      "outputs": [
        {
          "output_type": "execute_result",
          "data": {
            "text/plain": [
              "'Multiple Inheritance means a class can inherit from more than one parent class. This allows a child class to reuse code from multiple sources.\\n\\n\\n'"
            ],
            "application/vnd.google.colaboratory.intrinsic+json": {
              "type": "string"
            }
          },
          "metadata": {},
          "execution_count": 9
        }
      ]
    },
    {
      "cell_type": "code",
      "source": [
        "#Explain the purpose of ‘’__str__’ and ‘__repr__’ ‘ methods in Python\n",
        "\"\"\"Multiple Inheritance means a class can inherit from more than one parent class. This allows a child class to reuse code from multiple sources.\n",
        "\n",
        "\n",
        "\"\"\""
      ],
      "metadata": {
        "colab": {
          "base_uri": "https://localhost:8080/",
          "height": 35
        },
        "id": "23Aj_x4v4T6V",
        "outputId": "1bfb2d5c-251c-419e-facc-1a9e353a6669"
      },
      "execution_count": null,
      "outputs": [
        {
          "output_type": "execute_result",
          "data": {
            "text/plain": [
              "'Multiple Inheritance means a class can inherit from more than one parent class. This allows a child class to reuse code from multiple sources.\\n\\n\\n'"
            ],
            "application/vnd.google.colaboratory.intrinsic+json": {
              "type": "string"
            }
          },
          "metadata": {},
          "execution_count": 10
        }
      ]
    },
    {
      "cell_type": "code",
      "source": [
        "# What is the significance of the ‘super()’ function in Python\n",
        "\"\"\"What is the Significance of super() in Python?\n",
        "The super() function in Python is used to call methods from a parent (or superclass) inside a child (or subclass). It is especially important when working with inheritance, and multiple inheritance, to ensure the correct method resolution order (MRO) is followed\n",
        "\"\"\""
      ],
      "metadata": {
        "colab": {
          "base_uri": "https://localhost:8080/",
          "height": 53
        },
        "id": "c2wMsXX94d7m",
        "outputId": "7d314380-93a7-4d97-ab4c-316880a69b18"
      },
      "execution_count": null,
      "outputs": [
        {
          "output_type": "execute_result",
          "data": {
            "text/plain": [
              "'What is the Significance of super() in Python?\\nThe super() function in Python is used to call methods from a parent (or superclass) inside a child (or subclass). It is especially important when working with inheritance, and multiple inheritance, to ensure the correct method resolution order (MRO) is followed\\n'"
            ],
            "application/vnd.google.colaboratory.intrinsic+json": {
              "type": "string"
            }
          },
          "metadata": {},
          "execution_count": 11
        }
      ]
    },
    {
      "cell_type": "code",
      "source": [
        "#What is the significance of the __del__ method in Python\n",
        "\n",
        "\"\"\"In Python, __del__ is a special (magic/dunder) method that acts like a destructor—it’s invoked when an object is about to be garbage‐collected. You define it in your class like this:\n",
        "   class MyResource:\n",
        "    def __init__(self, name):\n",
        "        self.name = name\n",
        "        print(f\"[INIT] Resource {self.name} acquired\")\n",
        "\n",
        "    def __del__(self):\n",
        "        print(f\"[DEL] Resource {self.name} released\")\n",
        "\n",
        "\"\"\""
      ],
      "metadata": {
        "colab": {
          "base_uri": "https://localhost:8080/",
          "height": 53
        },
        "id": "1HXbz0St5JK6",
        "outputId": "04de1c88-2472-4688-ad2c-294f50912591"
      },
      "execution_count": null,
      "outputs": [
        {
          "output_type": "execute_result",
          "data": {
            "text/plain": [
              "'In Python, __del__ is a special (magic/dunder) method that acts like a destructor—it’s invoked when an object is about to be garbage‐collected. You define it in your class like this:\\n   class MyResource:\\n    def __init__(self, name):\\n        self.name = name\\n        print(f\"[INIT] Resource {self.name} acquired\")\\n\\n    def __del__(self):\\n        print(f\"[DEL] Resource {self.name} released\")\\n\\n'"
            ],
            "application/vnd.google.colaboratory.intrinsic+json": {
              "type": "string"
            }
          },
          "metadata": {},
          "execution_count": 12
        }
      ]
    },
    {
      "cell_type": "code",
      "source": [
        "#  What is the difference between @staticmethod and @classmethod in Python\n",
        "\"\"\"Feature                        @staticmethod                              \t@classmethod\n",
        "First argument               \tNone\t                                     cls (class reference)\n",
        "Can access class data?         \t❌ No\t                                    ✅ Yes\n",
        "Can access instance data?      \t❌ No\t                                     ❌ No\n",
        "Used for                    \tUtility/helper functions\t              Factory methods, class config\n",
        "Bound to                   \tClass (no implicit parameters)\t            Class (receives cls)\n",
        "\"\"\""
      ],
      "metadata": {
        "colab": {
          "base_uri": "https://localhost:8080/",
          "height": 70
        },
        "id": "-zaTxJfJ5dbr",
        "outputId": "1de057f3-73f8-45e7-c70d-48e1f79f3725"
      },
      "execution_count": null,
      "outputs": [
        {
          "output_type": "execute_result",
          "data": {
            "text/plain": [
              "'Feature                        @staticmethod                              \\t@classmethod\\nFirst argument               \\tNone\\t                                     cls (class reference)\\nCan access class data?         \\t❌ No\\t                                    ✅ Yes\\nCan access instance data?      \\t❌ No\\t                                     ❌ No\\nUsed for                    \\tUtility/helper functions\\t              Factory methods, class config\\nBound to                   \\tClass (no implicit parameters)\\t            Class (receives cls)\\n'"
            ],
            "application/vnd.google.colaboratory.intrinsic+json": {
              "type": "string"
            }
          },
          "metadata": {},
          "execution_count": 13
        }
      ]
    },
    {
      "cell_type": "code",
      "source": [
        "#How does polymorphism work in Python with inheritance\n",
        "\"\"\"In Python, polymorphism allows objects of different classes to be treated through a common interface, especially when they share a parent class. It works seamlessly with inheritance, allowing subclasses to override methods of the parent class and be used interchangeably.\n",
        "\"\"\""
      ],
      "metadata": {
        "colab": {
          "base_uri": "https://localhost:8080/",
          "height": 53
        },
        "id": "8nTlDnOX53TH",
        "outputId": "a01be4d4-7bff-459e-f823-8d644cc0cddd"
      },
      "execution_count": null,
      "outputs": [
        {
          "output_type": "execute_result",
          "data": {
            "text/plain": [
              "'In Python, polymorphism allows objects of different classes to be treated through a common interface, especially when they share a parent class. It works seamlessly with inheritance, allowing subclasses to override methods of the parent class and be used interchangeably.\\n'"
            ],
            "application/vnd.google.colaboratory.intrinsic+json": {
              "type": "string"
            }
          },
          "metadata": {},
          "execution_count": 14
        }
      ]
    },
    {
      "cell_type": "code",
      "source": [
        "#What is method chaining in Python OOP\n",
        "\"\"\"Method chaining is a technique in Python where multiple methods are called in a single line, one after another, using the dot (.) operator.\n",
        "\n",
        "It works by designing each method to return the object itself (self), allowing subsequent calls to be made on the same object.\n",
        "\"\"\""
      ],
      "metadata": {
        "colab": {
          "base_uri": "https://localhost:8080/",
          "height": 53
        },
        "id": "CWLpGZZw6BOf",
        "outputId": "834ad1b2-68d4-4fd8-d7cd-152b2b77a847"
      },
      "execution_count": null,
      "outputs": [
        {
          "output_type": "execute_result",
          "data": {
            "text/plain": [
              "'Method chaining is a technique in Python where multiple methods are called in a single line, one after another, using the dot (.) operator.\\n\\nIt works by designing each method to return the object itself (self), allowing subsequent calls to be made on the same object.\\n'"
            ],
            "application/vnd.google.colaboratory.intrinsic+json": {
              "type": "string"
            }
          },
          "metadata": {},
          "execution_count": 15
        }
      ]
    },
    {
      "cell_type": "code",
      "source": [
        "\n",
        "\n",
        "# What is the purpose of the __call__ method in Python\n",
        "\"\"\"If a class defines a __call__ method, then its objects can be \"called\" just like functions using parentheses.\n",
        "\"\"\""
      ],
      "metadata": {
        "colab": {
          "base_uri": "https://localhost:8080/",
          "height": 35
        },
        "id": "fpkQF_FG6Od3",
        "outputId": "3417b586-82d4-4f0f-84c3-428fe019f1d7"
      },
      "execution_count": null,
      "outputs": [
        {
          "output_type": "execute_result",
          "data": {
            "text/plain": [
              "'If a class defines a __call__ method, then its objects can be \"called\" just like functions using parentheses.\\n'"
            ],
            "application/vnd.google.colaboratory.intrinsic+json": {
              "type": "string"
            }
          },
          "metadata": {},
          "execution_count": 16
        }
      ]
    },
    {
      "cell_type": "markdown",
      "source": [
        "Practical Questions\n"
      ],
      "metadata": {
        "id": "4dWlbJkz6sKp"
      }
    },
    {
      "cell_type": "code",
      "source": [
        "# Create a parent class Animal with a method speak() that prints a generic message. Create a child class Dog\n",
        " #that overrides the speak() method to print \"Bark\n",
        "# Parent class\n",
        "# Parent class\n",
        "class Animal:\n",
        "    def speak(self):\n",
        "        print(\"Animal makes a sound\")\n",
        "\n",
        "# Child class\n",
        "class Dog(Animal):\n",
        "    def speak(self):\n",
        "        print(\"Bark\")\n",
        "\n",
        "# Example usage\n",
        "a = Animal()\n",
        "a.speak()  # Output: Animal makes a sound\n",
        "\n",
        "d = Dog()\n",
        "d.speak()  # Output: Bark\n",
        "\n",
        "\n",
        "\n",
        "\n",
        "\n",
        "\n"
      ],
      "metadata": {
        "id": "uuLqRuks6oq7",
        "colab": {
          "base_uri": "https://localhost:8080/"
        },
        "outputId": "120fad3d-0b06-4ff6-c36a-ede04df0f515"
      },
      "execution_count": 6,
      "outputs": [
        {
          "output_type": "stream",
          "name": "stdout",
          "text": [
            "Animal makes a sound\n",
            "Bark\n"
          ]
        }
      ]
    },
    {
      "cell_type": "code",
      "source": [
        "# Write a program to create an abstract class Shape with a method area(). Derive classes Circle and Rectangle\n",
        "#from it and implement the area() method in both\n",
        "# Abstract class Shape\n",
        "from abc import ABC, abstractmethod\n",
        "import math\n",
        "\n",
        "# Abstract class Shape\n",
        "class Shape(ABC):\n",
        "\n",
        "    @abstractmethod\n",
        "    def area(self):\n",
        "        pass\n",
        "\n",
        "# Circle class inheriting from Shape\n",
        "class Circle(Shape):\n",
        "\n",
        "    def __init__(self, radius):\n",
        "        self.radius = radius\n",
        "\n",
        "    def area(self):\n",
        "        return math.pi * self.radius ** 2\n",
        "\n",
        "# Rectangle class inheriting from Shape\n",
        "class Rectangle(Shape):\n",
        "\n",
        "    def __init__(self, width, height):\n",
        "        self.width = width\n",
        "        self.height = height\n",
        "\n",
        "    def area(self):\n",
        "        return self.width * self.height\n",
        "\n",
        "# Example usage\n",
        "if __name__ == \"__main__\":\n",
        "    circle = Circle(5)\n",
        "    rectangle = Rectangle(4, 6)\n",
        "\n",
        "    print(f\"Area of Circle: {circle.area():.2f}\")\n",
        "    print(f\"Area of Rectangle: {rectangle.area():.2f}\")\n",
        "\n",
        "\n"
      ],
      "metadata": {
        "colab": {
          "base_uri": "https://localhost:8080/"
        },
        "id": "iSyMTjvjJgOQ",
        "outputId": "84601b9a-f9f0-466d-f4f2-4454f57fa1d6"
      },
      "execution_count": 8,
      "outputs": [
        {
          "output_type": "stream",
          "name": "stdout",
          "text": [
            "Area of Circle: 78.54\n",
            "Area of Rectangle: 24.00\n"
          ]
        }
      ]
    },
    {
      "cell_type": "code",
      "source": [
        "#  Implement a multi-level inheritance scenario where a class Vehicle has an attribute type. Derive a class Car\n",
        " #and further derive a class ElectricCar that adds a battery attribute Implement a multi-level inheritance scenario where a class Vehicle has an attribute type. Derive a class Car\n",
        " # Base class\n",
        "class Vehicle:\n",
        "    def __init__(self, vehicle_type):\n",
        "        self.vehicle_type = vehicle_type\n",
        "\n",
        "    def display_info(self):\n",
        "        print(f\"Vehicle Type: {self.vehicle_type}\")\n",
        "\n",
        "# First derived class\n",
        "class Car(Vehicle):\n",
        "    def __init__(self, vehicle_type, brand):\n",
        "        super().__init__(vehicle_type)\n",
        "        self.brand = brand\n",
        "\n",
        "    def display_info(self):\n",
        "        super().display_info()\n",
        "        print(f\"Car Brand: {self.brand}\")\n",
        "\n",
        "# Second derived class\n",
        "class ElectricCar(Car):\n",
        "    def __init__(self, vehicle_type, brand, battery_capacity):\n",
        "        super().__init__(vehicle_type, brand)\n",
        "        self.battery_capacity = battery_capacity  # in kWh\n",
        "\n",
        "    def display_info(self):\n",
        "        super().display_info()\n",
        "        print(f\"Battery Capacity: {self.battery_capacity} kWh\")\n",
        "\n",
        "# Example usage\n",
        "my_electric_car = ElectricCar(\"Four-wheeler\", \"Tesla\", 100)\n",
        "my_electric_car.display_info()\n",
        "\n",
        "\n",
        "\n"
      ],
      "metadata": {
        "colab": {
          "base_uri": "https://localhost:8080/"
        },
        "id": "GMwQs9raKpun",
        "outputId": "d51d0ef4-a564-4c71-9e6a-f0967b1ea94b"
      },
      "execution_count": 10,
      "outputs": [
        {
          "output_type": "stream",
          "name": "stdout",
          "text": [
            "Vehicle Type: Four-wheeler\n",
            "Car Brand: Tesla\n",
            "Battery Capacity: 100 kWh\n"
          ]
        }
      ]
    },
    {
      "cell_type": "code",
      "source": [
        "#  Demonstrate polymorphism by creating a base class Bird with a method fly(). Create two derived classes\n",
        " #Sparrow and Penguin that override the fly() method\n",
        " # Base class\n",
        "class Bird:\n",
        "    def fly(self):\n",
        "        print(\"This bird can fly.\")\n",
        "\n",
        "# Derived class 1\n",
        "class Sparrow(Bird):\n",
        "    def fly(self):\n",
        "        print(\"Sparrow flies high in the sky.\")\n",
        "\n",
        "# Derived class 2\n",
        "class Penguin(Bird):\n",
        "    def fly(self):\n",
        "        print(\"Penguins can't fly, they swim.\")\n",
        "\n",
        "# Polymorphism in action\n",
        "def show_flight(bird):\n",
        "    bird.fly()\n",
        "\n",
        "# Create instances\n",
        "bird1 = Sparrow()\n",
        "bird2 = Penguin()\n",
        "\n",
        "# Demonstrate polymorphism\n",
        "show_flight(bird1)  # Output: Sparrow flies high in the sky.\n",
        "show_flight(bird2)  # Output: Penguins can't fly, they swim.\n",
        "\n"
      ],
      "metadata": {
        "colab": {
          "base_uri": "https://localhost:8080/"
        },
        "id": "S0uD4v6NLB1y",
        "outputId": "b7a3a91d-251e-4f6a-b681-937110ef7c46"
      },
      "execution_count": 11,
      "outputs": [
        {
          "output_type": "stream",
          "name": "stdout",
          "text": [
            "Sparrow flies high in the sky.\n",
            "Penguins can't fly, they swim.\n"
          ]
        }
      ]
    },
    {
      "cell_type": "code",
      "source": [
        "# Demonstrate runtime polymorphism using a method play() in a base class Instrument. Derive classes Guitar\n",
        "\n",
        "# and Piano that implement their own version of play()\n",
        "\"\"\"Here’s a simple demonstration of runtime polymorphism in C++ using a play() method in a base class Instrument, with derived classes Guitar and Piano, each providing their own implementation of the play() method.\n",
        "\"\"\"\n"
      ],
      "metadata": {
        "colab": {
          "base_uri": "https://localhost:8080/",
          "height": 35
        },
        "id": "K5YeS8qYL_Xg",
        "outputId": "98dae033-d137-4797-9581-6cd5a549550b"
      },
      "execution_count": 15,
      "outputs": [
        {
          "output_type": "execute_result",
          "data": {
            "text/plain": [
              "'Here’s a simple demonstration of runtime polymorphism in C++ using a play() method in a base class Instrument, with derived classes Guitar and Piano, each providing their own implementation of the play() method.\\n'"
            ],
            "application/vnd.google.colaboratory.intrinsic+json": {
              "type": "string"
            }
          },
          "metadata": {},
          "execution_count": 15
        }
      ]
    },
    {
      "cell_type": "code",
      "source": [
        "# Create a class MathOperations with a class method add_numbers() to add two numbers and a static\n",
        " # method subtract_numbers() to subtract two numbers\n",
        "class MathOperations:\n",
        "    @classmethod\n",
        "    def add_numbers(cls, a, b):\n",
        "        return a + b\n",
        "\n",
        "    @staticmethod\n",
        "    def subtract_numbers(a, b):\n",
        "        return a - b\n",
        "        print(MathOperations.add_numbers(10, 5))\n",
        "        print(MathOperations.add_numbers(10, 5))\n",
        "\n",
        "\n",
        "\n",
        "\n",
        "\n"
      ],
      "metadata": {
        "id": "MtSqhnJPNSaB"
      },
      "execution_count": 26,
      "outputs": []
    },
    {
      "cell_type": "code",
      "source": [
        "# Implement a class Person with a class method to count the total number of persons created\n",
        "class Person:\n",
        "    count = 0  # Class variable to track the number of persons created\n",
        "\n",
        "    def __init__(self, name):\n",
        "        self.name = name\n",
        "        Person.count += 1  # Increment count whenever a new Person is created\n",
        "\n",
        "    @classmethod\n",
        "    def total_persons(cls):\n",
        "        return cls.count  # Return the total number of persons\n",
        "\n",
        "# Example usage:\n",
        "p1 = Person(\"Alice\")\n",
        "p2 = Person(\"Bob\")\n",
        "\n",
        "print(\"Total persons created:\", Person.total_persons())  # Output: 2\n"
      ],
      "metadata": {
        "colab": {
          "base_uri": "https://localhost:8080/"
        },
        "id": "mINuPBViNnLE",
        "outputId": "8e2eba2c-4166-40f3-d62e-b17a2efd0477"
      },
      "execution_count": 30,
      "outputs": [
        {
          "output_type": "stream",
          "name": "stdout",
          "text": [
            "Total persons created: 2\n"
          ]
        }
      ]
    },
    {
      "cell_type": "code",
      "source": [
        "#Write a class Fraction with attributes numerator and denominator. Override the str method to display the\n",
        "\n",
        "class Fraction:\n",
        "    def __init__(self, numerator, denominator):\n",
        "        self.numerator = numerator\n",
        "        self.denominator = denominator\n",
        "\n",
        "    def __str__(self):\n",
        "        return f\"{self.numerator}/{self.denominator}\"\n",
        "\n",
        "f = Fraction(3, 4)\n",
        "print(f)"
      ],
      "metadata": {
        "colab": {
          "base_uri": "https://localhost:8080/"
        },
        "id": "D-EVfzwuOe_h",
        "outputId": "fe6d2d0b-331d-4693-f8ff-7f8fe86062df"
      },
      "execution_count": 38,
      "outputs": [
        {
          "output_type": "stream",
          "name": "stdout",
          "text": [
            "3/4\n"
          ]
        }
      ]
    },
    {
      "cell_type": "code",
      "source": [
        "# Demonstrate operator overloading by creating a class Vector and overriding the add method to add two\n",
        "# vectors\n",
        "class Vector:\n",
        "    def __init__(self, x, y):\n",
        "        self.x = x\n",
        "        self.y = y\n",
        "\n",
        "    # Overloading the + operator\n",
        "    def __add__(self, other):\n",
        "        if isinstance(other, Vector):\n",
        "            return Vector(self.x + other.x, self.y + other.y)\n",
        "        return NotImplemented\n",
        "\n",
        "    def __repr__(self):\n",
        "        return f\"Vector({self.x}, {self.y})\"\n",
        "\n",
        "\n",
        "# Example usage:\n",
        "v1 = Vector(3, 4)\n",
        "v2 = Vector(1, 2)\n",
        "v3 = v1 + v2\n",
        "\n",
        "print(v1)  # Output: Vector(3, 4)\n",
        "print(v2)  # Output: Vector(1, 2)\n",
        "print(v3)  # Output: Vector(4, 6)\n"
      ],
      "metadata": {
        "colab": {
          "base_uri": "https://localhost:8080/"
        },
        "id": "dbqBTgEzPENu",
        "outputId": "37c67a7c-0b43-4456-cb88-cc6f1ee5dca2"
      },
      "execution_count": 39,
      "outputs": [
        {
          "output_type": "stream",
          "name": "stdout",
          "text": [
            "Vector(3, 4)\n",
            "Vector(1, 2)\n",
            "Vector(4, 6)\n"
          ]
        }
      ]
    },
    {
      "cell_type": "code",
      "source": [
        "#  Create a class Person with attributes name and age. Add a method greet() that prints \"Hello, my name is\n",
        " # {name} and I am {age} years old.\"\n",
        "class Person:\n",
        "    def __init__(self, name, age):\n",
        "        self.name = name\n",
        "        self.age = age\n",
        "\n",
        "    def greet(self):\n",
        "        print(f\"Hello, my name is {self.name} and I am {self.age} years old.\")"
      ],
      "metadata": {
        "id": "vVmWDeIZPx7r"
      },
      "execution_count": 42,
      "outputs": []
    },
    {
      "cell_type": "code",
      "source": [
        "#  Implement a class Student with attributes name and grades. Create a method average_grade() to compute\n",
        " # the average of the grades\n",
        "class Student:\n",
        "    def __init__(self, name, grades):\n",
        "        self.name = name\n",
        "        self.grades = grades  # List of numeric grades\n",
        "\n",
        "    def average_grade(self):\n",
        "        if not self.grades:\n",
        "            return 0  # Avoid division by zero\n",
        "        return sum(self.grades) / len(self.grades)\n",
        "\n",
        "\n",
        "# Example usage\n",
        "student1 = Student(\"Alice\", [85, 90, 78])\n",
        "print(f\"{student1.name}'s average grade: {student1.average_grade():.2f}\")"
      ],
      "metadata": {
        "colab": {
          "base_uri": "https://localhost:8080/"
        },
        "id": "tx_50aPFP9e7",
        "outputId": "0d2da84d-2dad-42e1-88e5-da82542ea3c0"
      },
      "execution_count": 44,
      "outputs": [
        {
          "output_type": "stream",
          "name": "stdout",
          "text": [
            "Alice's average grade: 84.33\n"
          ]
        }
      ]
    },
    {
      "cell_type": "code",
      "source": [
        "#  Create a class Rectangle with methods set_dimensions() to set the dimensions and area() to calculate the\n",
        "class Rectangle:\n",
        "    def __init__(self):\n",
        "        self.length = 0\n",
        "        self.width = 0\n",
        "\n",
        "    def set_dimensions(self, length, width):\n",
        "        self.length = length\n",
        "        self.width = width\n",
        "\n",
        "    def area(self):\n",
        "        return self.length * self.width\n",
        "        rect = Rectangle()\n",
        "        rect.set_dimensions(10, 5)\n",
        "        print(\"Area of the rectangle:\", rect.area())\n",
        "\n",
        "\n",
        "\n",
        "\n",
        "\n",
        ""
      ],
      "metadata": {
        "id": "dRqJ0XCgQbS_"
      },
      "execution_count": 47,
      "outputs": []
    },
    {
      "cell_type": "code",
      "source": [
        "#  Create a class Product with attributes name, price, and quantity. Implement a method total_price() that\n",
        " # calculates the total price of the product\n",
        "class Product:\n",
        "    def __init__(self, name, price, quantity):\n",
        "        self.name = name\n",
        "        self.price = price\n",
        "        self.quantity = quantity\n",
        "\n",
        "    def total_price(self):\n",
        "        return self.price * self.quantity"
      ],
      "metadata": {
        "id": "5cGSQaqGQszR"
      },
      "execution_count": 49,
      "outputs": []
    },
    {
      "cell_type": "code",
      "source": [
        "#  Create a class Animal with an abstract method sound(). Create two derived classes Cow and Sheep that\n",
        " # implement the sound() method\n",
        "from abc import ABC, abstractmethod\n",
        "\n",
        "class Animal(ABC):\n",
        "    @abstractmethod\n",
        "    def sound(self):\n",
        "        pass\n",
        "\n",
        "class Cow(Animal):\n",
        "    def sound(self):\n",
        "        return \"Moo\"\n",
        "\n",
        "class Sheep(Animal):\n",
        "    def sound(self):\n",
        "        return \"Baa\"\n",
        "\n",
        "if __name__ == \"__main__\":\n",
        "    cow = Cow()\n",
        "    sheep = Sheep()\n",
        "\n",
        "    print(\"Cow sound:\", cow.sound())\n",
        "    print(\"Sheep sound:\", sheep.sound())"
      ],
      "metadata": {
        "colab": {
          "base_uri": "https://localhost:8080/"
        },
        "id": "b1o-fWymRMhc",
        "outputId": "980e9d96-5f1e-4945-9fdb-7ba1b9436bf2"
      },
      "execution_count": 51,
      "outputs": [
        {
          "output_type": "stream",
          "name": "stdout",
          "text": [
            "Cow sound: Moo\n",
            "Sheep sound: Baa\n"
          ]
        }
      ]
    },
    {
      "cell_type": "code",
      "source": [
        "# Create a class Book with attributes title, author, and year_published. Add a method get_book_info() that\n",
        " # returns a formatted string with the book's details\n",
        "class Book:\n",
        "    def __init__(self, title, author, year_published):\n",
        "        self.title = title\n",
        "        self.author = author\n",
        "        self.year_published = year_published\n",
        "\n",
        "    def get_book_info(self):\n",
        "        return f\"'{self.title}' by {self.author}, published in {self.year_published}\""
      ],
      "metadata": {
        "id": "Ykqq-2C-Rdel"
      },
      "execution_count": 53,
      "outputs": []
    },
    {
      "cell_type": "code",
      "source": [
        "book1 = Book(\"1984\", \"George Orwell\", 1949)\n",
        "print(book1.get_book_info())\n"
      ],
      "metadata": {
        "colab": {
          "base_uri": "https://localhost:8080/"
        },
        "id": "PUBoQpGZRu_o",
        "outputId": "021d9548-979f-4305-ff95-fd344c040d2b"
      },
      "execution_count": 54,
      "outputs": [
        {
          "output_type": "stream",
          "name": "stdout",
          "text": [
            "'1984' by George Orwell, published in 1949\n"
          ]
        }
      ]
    },
    {
      "cell_type": "code",
      "source": [
        "#  Create a class House with attributes address and price. Create a derived class Mansion that adds an\n",
        " # attribute number_of_rooms and overrides the display_info() method to include the number of rooms\n",
        "class House:\n",
        "    def __init__(self, address, price):\n",
        "        self.address = address\n",
        "        self.price = price\n",
        "\n",
        "    def display_info(self):\n",
        "        print(f\"Address: {self.address}\")\n",
        "        print(f\"Price: ${self.price:,.2f}\")\n",
        "\n",
        "class Mansion(House):\n",
        "    def __init__(self, address, price, number_of_rooms):\n",
        "        super().__init__(address, price)\n",
        "        self.number_of_rooms = number_of_rooms\n",
        "\n",
        "    def display_info(self):\n",
        "        super().display_info()\n",
        "        print(f\"Number of Rooms: {self.number_of_rooms}\")\n",
        "\n",
        "house = House(\"123 Main St\", 250000)\n",
        "house.display_info()\n",
        "\n",
        "print(\"\\n---\\n\")\n",
        "\n",
        "mansion = Mansion(\"456 Grand Ave\", 2000000, 10)\n",
        "mansion.display_info()"
      ],
      "metadata": {
        "colab": {
          "base_uri": "https://localhost:8080/"
        },
        "id": "R04L8KVcR2VA",
        "outputId": "12151e21-9c7c-4c75-b167-6bd41bdef5a6"
      },
      "execution_count": 56,
      "outputs": [
        {
          "output_type": "stream",
          "name": "stdout",
          "text": [
            "Address: 123 Main St\n",
            "Price: $250,000.00\n",
            "\n",
            "---\n",
            "\n",
            "Address: 456 Grand Ave\n",
            "Price: $2,000,000.00\n",
            "Number of Rooms: 10\n"
          ]
        }
      ]
    },
    {
      "cell_type": "code",
      "source": [],
      "metadata": {
        "id": "w752yy2RSNA6"
      },
      "execution_count": null,
      "outputs": []
    }
  ]
}